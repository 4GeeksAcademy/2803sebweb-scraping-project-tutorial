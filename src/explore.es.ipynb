{
    "cells": [
        {
            "cell_type": "markdown",
            "metadata": {},
            "source": [
                "# Explora aquí\n",
                "\n",
                "Se recomienda utilizar este cuaderno con fines de exploración."
            ]
        },
        {
            "cell_type": "code",
            "execution_count": 15,
            "metadata": {},
            "outputs": [
                {
                    "name": "stdout",
                    "output_type": "stream",
                    "text": [
                        "Código de respuesta: 200\n",
                        "Datos almacenados en 'tesla_market_cap.html'\n"
                    ]
                }
            ],
            "source": [
                "import os\n",
                "from bs4 import BeautifulSoup\n",
                "import requests\n",
                "import time\n",
                "import sqlite3\n",
                "import matplotlib.pyplot as plt\n",
                "import seaborn as sns\n",
                "import requests\n",
                "from bs4 import BeautifulSoup\n",
                "\n",
                "# URL de la página web a scrapear\n",
                "resource_url = \"https://companiesmarketcap.com/tesla/marketcap/\"\n",
                "\n",
                "# Petición para descargar la página\n",
                "response = requests.get(resource_url)\n",
                "\n",
                "# Verificar si la petición fue exitosa\n",
                "if response.status_code == 200:\n",
                "    print(\"Código de respuesta:\", response.status_code)\n",
                "    \n",
                "    # Parsear el HTML con BeautifulSoup\n",
                "    soup = BeautifulSoup(response.content, \"html.parser\")\n",
                "    \n",
                "    # Extraer el texto de la página\n",
                "    page_text = soup.get_text()\n",
                "    \n",
                "    # Almacenar en un archivo\n",
                "    with open(\"tesla_market_cap.html\", \"w\", encoding=\"utf-8\") as file:\n",
                "        file.write(soup.prettify())\n",
                "    \n",
                "    print(\"Datos almacenados en 'tesla_market_cap.html'\")\n",
                "else:\n",
                "    print(\"Error al acceder a la página. Código de estado:\", response.status_code)\n",
                "\n",
                "\n"
            ]
        }
    ],
    "metadata": {
        "kernelspec": {
            "display_name": "Python 3",
            "language": "python",
            "name": "python3"
        },
        "language_info": {
            "codemirror_mode": {
                "name": "ipython",
                "version": 3
            },
            "file_extension": ".py",
            "mimetype": "text/x-python",
            "name": "python",
            "nbconvert_exporter": "python",
            "pygments_lexer": "ipython3",
            "version": "3.11.4"
        },
        "orig_nbformat": 4
    },
    "nbformat": 4,
    "nbformat_minor": 2
}
